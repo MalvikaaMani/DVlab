{
 "cells": [
  {
   "cell_type": "code",
   "execution_count": 2,
   "id": "788f7880-fff9-40be-afcb-2ae835bc22ff",
   "metadata": {},
   "outputs": [
    {
     "data": {
      "text/html": [
       "<div>\n",
       "<style scoped>\n",
       "    .dataframe tbody tr th:only-of-type {\n",
       "        vertical-align: middle;\n",
       "    }\n",
       "\n",
       "    .dataframe tbody tr th {\n",
       "        vertical-align: top;\n",
       "    }\n",
       "\n",
       "    .dataframe thead th {\n",
       "        text-align: right;\n",
       "    }\n",
       "</style>\n",
       "<table border=\"1\" class=\"dataframe\">\n",
       "  <thead>\n",
       "    <tr style=\"text-align: right;\">\n",
       "      <th></th>\n",
       "      <th>plant_name</th>\n",
       "      <th>sunlight_exposure</th>\n",
       "      <th>plant_height</th>\n",
       "    </tr>\n",
       "  </thead>\n",
       "  <tbody>\n",
       "    <tr>\n",
       "      <th>0</th>\n",
       "      <td>Tulip</td>\n",
       "      <td>12</td>\n",
       "      <td>21</td>\n",
       "    </tr>\n",
       "    <tr>\n",
       "      <th>1</th>\n",
       "      <td>Oak</td>\n",
       "      <td>45</td>\n",
       "      <td>56</td>\n",
       "    </tr>\n",
       "    <tr>\n",
       "      <th>2</th>\n",
       "      <td>Pine</td>\n",
       "      <td>21</td>\n",
       "      <td>31</td>\n",
       "    </tr>\n",
       "    <tr>\n",
       "      <th>3</th>\n",
       "      <td>Mango</td>\n",
       "      <td>56</td>\n",
       "      <td>67</td>\n",
       "    </tr>\n",
       "    <tr>\n",
       "      <th>4</th>\n",
       "      <td>Banyan</td>\n",
       "      <td>11</td>\n",
       "      <td>80</td>\n",
       "    </tr>\n",
       "    <tr>\n",
       "      <th>5</th>\n",
       "      <td>Sunflower</td>\n",
       "      <td>89</td>\n",
       "      <td>44</td>\n",
       "    </tr>\n",
       "    <tr>\n",
       "      <th>6</th>\n",
       "      <td>Banana</td>\n",
       "      <td>46</td>\n",
       "      <td>110</td>\n",
       "    </tr>\n",
       "  </tbody>\n",
       "</table>\n",
       "</div>"
      ],
      "text/plain": [
       "  plant_name  sunlight_exposure  plant_height\n",
       "0      Tulip                 12            21\n",
       "1        Oak                 45            56\n",
       "2       Pine                 21            31\n",
       "3      Mango                 56            67\n",
       "4     Banyan                 11            80\n",
       "5  Sunflower                 89            44\n",
       "6     Banana                 46           110"
      ]
     },
     "execution_count": 2,
     "metadata": {},
     "output_type": "execute_result"
    }
   ],
   "source": [
    "import pandas as pd\n",
    "import matplotlib.pyplot as plt\n",
    "\n",
    "data={'plant_name':[\"Tulip\",\"Oak\",\"Pine\",\"Mango\",\"Banyan\",\"Sunflower\",\"Banana\"],\n",
    "      'sunlight_exposure':[12,45,21,56,11,89,46],\n",
    "       'plant_height':[21,56,31,67,80,44,110]\n",
    "     }\n",
    "df=pd.DataFrame(data)\n",
    "df"
   ]
  },
  {
   "cell_type": "code",
   "execution_count": 3,
   "id": "c5625597-5d8c-4f70-a738-a03187fc15a9",
   "metadata": {},
   "outputs": [
    {
     "data": {
      "image/png": "[encoded data removed]",
      "text/plain": [
       "<Figure size 640x480 with 1 Axes>"
      ]
     },
     "metadata": {},
     "output_type": "display_data"
    }
   ],
   "source": [
    "plt.scatter(df[\"sunlight_exposure\"],df[\"plant_height\"])\n",
    "plt.xlabel(\"sunlight_exposure\")\n",
    "plt.ylabel(\"plant_height\")\n",
    "plt.show()"
   ]
  },
  {
   "cell_type": "code",
   "execution_count": 4,
   "id": "62ce5f6d-1865-4083-a587-8e51e994d373",
   "metadata": {},
   "outputs": [
    {
     "data": {
      "text/html": [
       "<div>\n",
       "<style scoped>\n",
       "    .dataframe tbody tr th:only-of-type {\n",
       "        vertical-align: middle;\n",
       "    }\n",
       "\n",
       "    .dataframe tbody tr th {\n",
       "        vertical-align: top;\n",
       "    }\n",
       "\n",
       "    .dataframe thead th {\n",
       "        text-align: right;\n",
       "    }\n",
       "</style>\n",
       "<table border=\"1\" class=\"dataframe\">\n",
       "  <thead>\n",
       "    <tr style=\"text-align: right;\">\n",
       "      <th></th>\n",
       "      <th>sunlight_exposure</th>\n",
       "      <th>plant_height</th>\n",
       "    </tr>\n",
       "  </thead>\n",
       "  <tbody>\n",
       "    <tr>\n",
       "      <th>sunlight_exposure</th>\n",
       "      <td>1.000000</td>\n",
       "      <td>0.131138</td>\n",
       "    </tr>\n",
       "    <tr>\n",
       "      <th>plant_height</th>\n",
       "      <td>0.131138</td>\n",
       "      <td>1.000000</td>\n",
       "    </tr>\n",
       "  </tbody>\n",
       "</table>\n",
       "</div>"
      ],
      "text/plain": [
       "                   sunlight_exposure  plant_height\n",
       "sunlight_exposure           1.000000      0.131138\n",
       "plant_height                0.131138      1.000000"
      ]
     },
     "execution_count": 4,
     "metadata": {},
     "output_type": "execute_result"
    }
   ],
   "source": [
    "df_reduced=df[[\"sunlight_exposure\",\"plant_height\"]]\n",
    "df_reduced.corr()"
   ]
  },
  {
   "cell_type": "code",
   "execution_count": 5,
   "id": "629fe366-c406-4524-a68e-f268a64f6552",
   "metadata": {},
   "outputs": [
    {
     "name": "stdout",
     "output_type": "stream",
     "text": [
      "Correlation coefficient : 0.13\n"
     ]
    }
   ],
   "source": [
    "correlation=df[\"sunlight_exposure\"].corr(df[\"plant_height\"])\n",
    "print(f\"Correlation coefficient : {correlation:.2f}\")"
   ]
  },
  {
   "cell_type": "code",
   "execution_count": 7,
   "id": "78bb1989-6bc7-46e3-aeed-2902bf03ead3",
   "metadata": {},
   "outputs": [
    {
     "name": "stdout",
     "output_type": "stream",
     "text": [
      "Correaltion is positive\n"
     ]
    }
   ],
   "source": [
    "if correlation > 0:\n",
    "    sign=\"positive\"\n",
    "else :\n",
    "    sign=\"negative\"\n",
    "print(f\"Correaltion is {sign}\")"
   ]
  },
  {
   "cell_type": "code",
   "execution_count": 11,
   "id": "0636dc51-0b5a-48b5-961b-0ac68e96f6ea",
   "metadata": {},
   "outputs": [
    {
     "name": "stdout",
     "output_type": "stream",
     "text": [
      "Correlation is weak\n"
     ]
    }
   ],
   "source": [
    "if abs(correlation)>0.7:\n",
    "    strength=\"strong\"\n",
    "elif 0.5<abs(correlation)<0.7:\n",
    "    strength=\"moderate\"\n",
    "else:\n",
    "    strength=\"weak\"\n",
    "print(f\"Correlation is {strength}\")"
   ]
  },
  {
   "cell_type": "code",
   "execution_count": 9,
   "id": "468d0d0b-3b63-4b2e-bb6c-cdedcaffad5f",
   "metadata": {},
   "outputs": [
    {
     "name": "stdout",
     "output_type": "stream",
     "text": [
      "there is  a relationship between the number of hours of sunlight exposure and the height of the plants\n"
     ]
    }
   ],
   "source": [
    "if abs(correlation)>0:\n",
    "    print(\"there is  a relationship between the number of hours of sunlight exposure and the height of the plants\")\n",
    "else :\n",
    "    print(\"there is no relationship between the number of hours of sunlight exposure and the height of the plants\")"
   ]
  },
  {
   "cell_type": "code",
   "execution_count": 10,
   "id": "9053dd44-477a-46a6-844f-c0d5a9afa314",
   "metadata": {},
   "outputs": [
    {
     "name": "stdout",
     "output_type": "stream",
     "text": [
      "There is no significant association\n"
     ]
    }
   ],
   "source": [
    "threshold=0.7\n",
    "if abs(correlation)>=0.7:\n",
    "    print(\"There is significant association\")\n",
    "else:\n",
    "    print(\"There is no significant association\")"
   ]
  },
  {
   "cell_type": "code",
   "execution_count": null,
   "id": "07d09837-a69b-4179-93a3-5c018aff5dd9",
   "metadata": {},
   "outputs": [],
   "source": []
  }
 ],
 "metadata": {
  "kernelspec": {
   "display_name": "Python 3 (ipykernel)",
   "language": "python",
   "name": "python3"
  },
  "language_info": {
   "codemirror_mode": {
    "name": "ipython",
    "version": 3
   },
   "file_extension": ".py",
   "mimetype": "text/x-python",
   "name": "python",
   "nbconvert_exporter": "python",
   "pygments_lexer": "ipython3",
   "version": "3.13.1"
  }
 },
 "nbformat": 4,
 "nbformat_minor": 5
}
