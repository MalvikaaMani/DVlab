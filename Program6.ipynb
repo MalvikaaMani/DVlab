{
 "cells": [
  {
   "cell_type": "code",
   "execution_count": 1,
   "id": "3b2bad29-ac18-48cc-b858-9e7ed88e467c",
   "metadata": {},
   "outputs": [
    {
     "data": {
      "text/html": [
       "<div>\n",
       "<style scoped>\n",
       "    .dataframe tbody tr th:only-of-type {\n",
       "        vertical-align: middle;\n",
       "    }\n",
       "\n",
       "    .dataframe tbody tr th {\n",
       "        vertical-align: top;\n",
       "    }\n",
       "\n",
       "    .dataframe thead th {\n",
       "        text-align: right;\n",
       "    }\n",
       "</style>\n",
       "<table border=\"1\" class=\"dataframe\">\n",
       "  <thead>\n",
       "    <tr style=\"text-align: right;\">\n",
       "      <th></th>\n",
       "      <th>Name</th>\n",
       "      <th>Age</th>\n",
       "      <th>Income($)</th>\n",
       "    </tr>\n",
       "  </thead>\n",
       "  <tbody>\n",
       "    <tr>\n",
       "      <th>0</th>\n",
       "      <td>Rob</td>\n",
       "      <td>27</td>\n",
       "      <td>70000</td>\n",
       "    </tr>\n",
       "    <tr>\n",
       "      <th>1</th>\n",
       "      <td>Michael</td>\n",
       "      <td>29</td>\n",
       "      <td>90000</td>\n",
       "    </tr>\n",
       "    <tr>\n",
       "      <th>2</th>\n",
       "      <td>Mohan</td>\n",
       "      <td>29</td>\n",
       "      <td>61000</td>\n",
       "    </tr>\n",
       "    <tr>\n",
       "      <th>3</th>\n",
       "      <td>Ismail</td>\n",
       "      <td>28</td>\n",
       "      <td>60000</td>\n",
       "    </tr>\n",
       "    <tr>\n",
       "      <th>4</th>\n",
       "      <td>Kory</td>\n",
       "      <td>42</td>\n",
       "      <td>150000</td>\n",
       "    </tr>\n",
       "    <tr>\n",
       "      <th>5</th>\n",
       "      <td>Gautam</td>\n",
       "      <td>39</td>\n",
       "      <td>155000</td>\n",
       "    </tr>\n",
       "    <tr>\n",
       "      <th>6</th>\n",
       "      <td>David</td>\n",
       "      <td>41</td>\n",
       "      <td>160000</td>\n",
       "    </tr>\n",
       "    <tr>\n",
       "      <th>7</th>\n",
       "      <td>Andrea</td>\n",
       "      <td>38</td>\n",
       "      <td>162000</td>\n",
       "    </tr>\n",
       "    <tr>\n",
       "      <th>8</th>\n",
       "      <td>Brad</td>\n",
       "      <td>36</td>\n",
       "      <td>156000</td>\n",
       "    </tr>\n",
       "    <tr>\n",
       "      <th>9</th>\n",
       "      <td>Angelina</td>\n",
       "      <td>35</td>\n",
       "      <td>130000</td>\n",
       "    </tr>\n",
       "    <tr>\n",
       "      <th>10</th>\n",
       "      <td>Donald</td>\n",
       "      <td>37</td>\n",
       "      <td>137000</td>\n",
       "    </tr>\n",
       "    <tr>\n",
       "      <th>11</th>\n",
       "      <td>Tom</td>\n",
       "      <td>26</td>\n",
       "      <td>45000</td>\n",
       "    </tr>\n",
       "    <tr>\n",
       "      <th>12</th>\n",
       "      <td>Arnold</td>\n",
       "      <td>27</td>\n",
       "      <td>48000</td>\n",
       "    </tr>\n",
       "    <tr>\n",
       "      <th>13</th>\n",
       "      <td>Jared</td>\n",
       "      <td>28</td>\n",
       "      <td>51000</td>\n",
       "    </tr>\n",
       "    <tr>\n",
       "      <th>14</th>\n",
       "      <td>Stark</td>\n",
       "      <td>29</td>\n",
       "      <td>49500</td>\n",
       "    </tr>\n",
       "    <tr>\n",
       "      <th>15</th>\n",
       "      <td>Ranbir</td>\n",
       "      <td>32</td>\n",
       "      <td>53000</td>\n",
       "    </tr>\n",
       "    <tr>\n",
       "      <th>16</th>\n",
       "      <td>Dipika</td>\n",
       "      <td>40</td>\n",
       "      <td>65000</td>\n",
       "    </tr>\n",
       "    <tr>\n",
       "      <th>17</th>\n",
       "      <td>Priyanka</td>\n",
       "      <td>41</td>\n",
       "      <td>63000</td>\n",
       "    </tr>\n",
       "    <tr>\n",
       "      <th>18</th>\n",
       "      <td>Nick</td>\n",
       "      <td>43</td>\n",
       "      <td>64000</td>\n",
       "    </tr>\n",
       "    <tr>\n",
       "      <th>19</th>\n",
       "      <td>Alia</td>\n",
       "      <td>39</td>\n",
       "      <td>80000</td>\n",
       "    </tr>\n",
       "    <tr>\n",
       "      <th>20</th>\n",
       "      <td>Sid</td>\n",
       "      <td>41</td>\n",
       "      <td>82000</td>\n",
       "    </tr>\n",
       "    <tr>\n",
       "      <th>21</th>\n",
       "      <td>Abdul</td>\n",
       "      <td>39</td>\n",
       "      <td>58000</td>\n",
       "    </tr>\n",
       "  </tbody>\n",
       "</table>\n",
       "</div>"
      ],
      "text/plain": [
       "        Name  Age  Income($)\n",
       "0        Rob   27      70000\n",
       "1    Michael   29      90000\n",
       "2      Mohan   29      61000\n",
       "3     Ismail   28      60000\n",
       "4       Kory   42     150000\n",
       "5     Gautam   39     155000\n",
       "6      David   41     160000\n",
       "7     Andrea   38     162000\n",
       "8       Brad   36     156000\n",
       "9   Angelina   35     130000\n",
       "10    Donald   37     137000\n",
       "11       Tom   26      45000\n",
       "12    Arnold   27      48000\n",
       "13     Jared   28      51000\n",
       "14     Stark   29      49500\n",
       "15    Ranbir   32      53000\n",
       "16    Dipika   40      65000\n",
       "17  Priyanka   41      63000\n",
       "18      Nick   43      64000\n",
       "19      Alia   39      80000\n",
       "20       Sid   41      82000\n",
       "21     Abdul   39      58000"
      ]
     },
     "execution_count": 1,
     "metadata": {},
     "output_type": "execute_result"
    }
   ],
   "source": [
    "from sklearn.cluster import KMeans \n",
    "import pandas as pd\n",
    "import matplotlib.pyplot as plt\n",
    "\n",
    "df=pd.read_csv(\"income_clustering.csv\")\n",
    "df"
   ]
  },
  {
   "cell_type": "code",
   "execution_count": 3,
   "id": "d78664ea-ce78-4c9d-ad77-f862f34d9c83",
   "metadata": {},
   "outputs": [
    {
     "data": {
      "text/plain": [
       "Text(0, 0.5, 'Income($)')"
      ]
     },
     "execution_count": 3,
     "metadata": {},
     "output_type": "execute_result"
    },
    {
     "data": {
      "image/png": "[encoded data removed]",
      "text/plain": [
       "<Figure size 640x480 with 1 Axes>"
      ]
     },
     "metadata": {},
     "output_type": "display_data"
    }
   ],
   "source": [
    "plt.scatter(df.Age,df[\"Income($)\"])\n",
    "plt.xlabel(\"Age\")\n",
    "plt.ylabel(\"Income($)\")"
   ]
  },
  {
   "cell_type": "code",
   "execution_count": 4,
   "id": "36963718-4a45-495b-ace5-915d8eb05428",
   "metadata": {},
   "outputs": [
    {
     "data": {
      "text/plain": [
       "array([2, 2, 0, 0, 1, 1, 1, 1, 1, 1, 1, 0, 0, 0, 0, 0, 0, 0, 0, 2, 2, 0],\n",
       "      dtype=int32)"
      ]
     },
     "execution_count": 4,
     "metadata": {},
     "output_type": "execute_result"
    }
   ],
   "source": [
    "km=KMeans(n_clusters=3)\n",
    "y_predicted=km.fit_predict(df[[\"Age\",\"Income($)\"]])\n",
    "y_predicted"
   ]
  },
  {
   "cell_type": "code",
   "execution_count": 5,
   "id": "601531e1-4fda-40d8-a37e-180622f45b86",
   "metadata": {},
   "outputs": [
    {
     "data": {
      "text/html": [
       "<div>\n",
       "<style scoped>\n",
       "    .dataframe tbody tr th:only-of-type {\n",
       "        vertical-align: middle;\n",
       "    }\n",
       "\n",
       "    .dataframe tbody tr th {\n",
       "        vertical-align: top;\n",
       "    }\n",
       "\n",
       "    .dataframe thead th {\n",
       "        text-align: right;\n",
       "    }\n",
       "</style>\n",
       "<table border=\"1\" class=\"dataframe\">\n",
       "  <thead>\n",
       "    <tr style=\"text-align: right;\">\n",
       "      <th></th>\n",
       "      <th>Name</th>\n",
       "      <th>Age</th>\n",
       "      <th>Income($)</th>\n",
       "      <th>clusters</th>\n",
       "    </tr>\n",
       "  </thead>\n",
       "  <tbody>\n",
       "    <tr>\n",
       "      <th>0</th>\n",
       "      <td>Rob</td>\n",
       "      <td>27</td>\n",
       "      <td>70000</td>\n",
       "      <td>2</td>\n",
       "    </tr>\n",
       "    <tr>\n",
       "      <th>1</th>\n",
       "      <td>Michael</td>\n",
       "      <td>29</td>\n",
       "      <td>90000</td>\n",
       "      <td>2</td>\n",
       "    </tr>\n",
       "    <tr>\n",
       "      <th>2</th>\n",
       "      <td>Mohan</td>\n",
       "      <td>29</td>\n",
       "      <td>61000</td>\n",
       "      <td>0</td>\n",
       "    </tr>\n",
       "    <tr>\n",
       "      <th>3</th>\n",
       "      <td>Ismail</td>\n",
       "      <td>28</td>\n",
       "      <td>60000</td>\n",
       "      <td>0</td>\n",
       "    </tr>\n",
       "    <tr>\n",
       "      <th>4</th>\n",
       "      <td>Kory</td>\n",
       "      <td>42</td>\n",
       "      <td>150000</td>\n",
       "      <td>1</td>\n",
       "    </tr>\n",
       "  </tbody>\n",
       "</table>\n",
       "</div>"
      ],
      "text/plain": [
       "      Name  Age  Income($)  clusters\n",
       "0      Rob   27      70000         2\n",
       "1  Michael   29      90000         2\n",
       "2    Mohan   29      61000         0\n",
       "3   Ismail   28      60000         0\n",
       "4     Kory   42     150000         1"
      ]
     },
     "execution_count": 5,
     "metadata": {},
     "output_type": "execute_result"
    }
   ],
   "source": [
    "df[\"clusters\"]=y_predicted\n",
    "df.head()"
   ]
  },
  {
   "cell_type": "code",
   "execution_count": 6,
   "id": "6c0f2066-5d2e-41dd-a9c5-92ca1dd3a5c6",
   "metadata": {},
   "outputs": [
    {
     "data": {
      "text/plain": [
       "array([[3.29090909e+01, 5.61363636e+04],\n",
       "       [3.82857143e+01, 1.50000000e+05],\n",
       "       [3.40000000e+01, 8.05000000e+04]])"
      ]
     },
     "execution_count": 6,
     "metadata": {},
     "output_type": "execute_result"
    }
   ],
   "source": [
    "km.cluster_centers_"
   ]
  },
  {
   "cell_type": "code",
   "execution_count": 7,
   "id": "ea2ea355-b2f7-4c24-9e87-58df87200dbc",
   "metadata": {},
   "outputs": [
    {
     "data": {
      "image/png": "[encoded data removed]",
      "text/plain": [
       "<Figure size 640x480 with 1 Axes>"
      ]
     },
     "metadata": {},
     "output_type": "display_data"
    }
   ],
   "source": [
    "df1=df[df.clusters==0]\n",
    "df2=df[df.clusters==1]\n",
    "df3=df[df.clusters==2]\n",
    "\n",
    "plt.scatter(df1.Age,df1[\"Income($)\"],color=\"red\",label=\"Cluster0\")\n",
    "plt.scatter(df2.Age,df2[\"Income($)\"],color=\"blue\",label=\"Cluster1\")\n",
    "plt.scatter(df3.Age,df3[\"Income($)\"],color=\"green\",label=\"Cluster2\")\n",
    "\n",
    "plt.scatter(km.cluster_centers_[:,0],km.cluster_centers_[:,1],color=\"purple\",marker=\"*\",label=\"Centroid\")\n",
    "plt.xlabel(\"Age\")\n",
    "plt.ylabel(\"Income($)\")\n",
    "plt.legend()\n",
    "plt.show()"
   ]
  },
  {
   "cell_type": "code",
   "execution_count": 8,
   "id": "b03e1691-13a7-4a57-954e-d69150d7ba16",
   "metadata": {},
   "outputs": [],
   "source": [
    "sse=[]\n",
    "k_rng=range(1,10)\n",
    "for k in k_rng:\n",
    "    km=KMeans(n_clusters=k)\n",
    "    km.fit(df[[\"Age\",\"Income($)\"]])\n",
    "    sse.append(km.inertia_)\n"
   ]
  },
  {
   "cell_type": "code",
   "execution_count": 9,
   "id": "a5251378-dfef-46ee-8ccc-104d96d6d86c",
   "metadata": {},
   "outputs": [
    {
     "data": {
      "text/plain": [
       "[<matplotlib.lines.Line2D at 0x27250c93ed0>]"
      ]
     },
     "execution_count": 9,
     "metadata": {},
     "output_type": "execute_result"
    },
    {
     "data": {
      "image/png": "[encoded data removed]",
      "text/plain": [
       "<Figure size 640x480 with 1 Axes>"
      ]
     },
     "metadata": {},
     "output_type": "display_data"
    }
   ],
   "source": [
    "plt.xlabel(\"K\")\n",
    "plt.ylabel(\"Sum of squared error\")\n",
    "plt.plot(k_rng,sse)"
   ]
  },
  {
   "cell_type": "code",
   "execution_count": null,
   "id": "6d522e36-f073-46bb-82a6-3d7b56b58d59",
   "metadata": {},
   "outputs": [],
   "source": []
  }
 ],
 "metadata": {
  "kernelspec": {
   "display_name": "Python 3 (ipykernel)",
   "language": "python",
   "name": "python3"
  },
  "language_info": {
   "codemirror_mode": {
    "name": "ipython",
    "version": 3
   },
   "file_extension": ".py",
   "mimetype": "text/x-python",
   "name": "python",
   "nbconvert_exporter": "python",
   "pygments_lexer": "ipython3",
   "version": "3.13.1"
  }
 },
 "nbformat": 4,
 "nbformat_minor": 5
}
